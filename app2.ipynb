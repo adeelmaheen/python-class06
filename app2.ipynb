{
 "cells": [
  {
   "cell_type": "code",
   "execution_count": 1,
   "metadata": {},
   "outputs": [
    {
     "name": "stdout",
     "output_type": "stream",
     "text": [
      "hello world\n"
     ]
    }
   ],
   "source": [
    "print(\"hello world\")"
   ]
  },
  {
   "cell_type": "code",
   "execution_count": 2,
   "metadata": {},
   "outputs": [
    {
     "name": "stdout",
     "output_type": "stream",
     "text": [
      "===================================  Hello,World! =======================================\n",
      "=========================================================================================\n",
      "Name                         Maheen                        \n",
      "Father_name                  Muhammad Arif                   \n",
      "True\n"
     ]
    }
   ],
   "source": [
    "print(\"===================================  Hello,World! =======================================\")\n",
    "print(\"=========================================================================================\")\n",
    "\n",
    "name :str = \"Maheen\"\n",
    "father_name:str =\"Muhammad Arif\"\n",
    "is_student:bool= True\n",
    "print(\"Name\" + name.center(55))\n",
    "print(\"Father_name\" + father_name.center(50))\n",
    "print( is_student)\n"
   ]
  }
 ],
 "metadata": {
  "kernelspec": {
   "display_name": "Python 3",
   "language": "python",
   "name": "python3"
  },
  "language_info": {
   "codemirror_mode": {
    "name": "ipython",
    "version": 3
   },
   "file_extension": ".py",
   "mimetype": "text/x-python",
   "name": "python",
   "nbconvert_exporter": "python",
   "pygments_lexer": "ipython3",
   "version": "3.12.5"
  }
 },
 "nbformat": 4,
 "nbformat_minor": 2
}
