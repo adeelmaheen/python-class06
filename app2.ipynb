{
 "cells": [
  {
   "cell_type": "code",
   "execution_count": 2,
   "metadata": {},
   "outputs": [
    {
     "name": "stdout",
     "output_type": "stream",
     "text": [
      "hello world\n"
     ]
    },
    {
     "name": "stderr",
     "output_type": "stream",
     "text": [
      "Bad pipe message: %s [b'\"Chromium\";v=\"128\", \"Not;A=Brand\";v=\"24\", \"Microsoft Edge']\n",
      "Bad pipe message: %s [b'v=\"128\"\\r\\nsec-ch-ua-mobile: ?0\\r\\nse', b'ch-ua-platform: \"Windows\"\\r\\nUpgrade-Insecure-Requests: 1\\r\\nUser-Agent: Mozilla/5.0 (Windows NT 10.0;', b'in64; x64) AppleWebKit/537.36 (', b'TML, like Gecko) Chrome/128.0.0.0 Safari/537.36 Edg/128.0.0.0\\r\\nAccept: tex']\n",
      "Bad pipe message: %s [b'html,application/xhtml+xml,application/xml;q=0.9,image/avif,image/webp,image/apng,*/*;q=0.8,application/signed-exch', b'ge;v=b3;q=0.7\\r\\nSec-Fetch-Site: none\\r\\nSec-Fetch-Mode: navigate\\r\\nSec-Fetch-User: ?1\\r\\nSec-Fetch-Des']\n",
      "Bad pipe message: %s [b'ol: max-age=0\\r\\nsec-ch-ua: \"Chromium\";v=\"128\", \"Not;A=Brand\";v=\"24\", \"Microsoft Edge\";v=\"128\"\\r\\nsec-ch-ua-mobile: ?0\\r']\n",
      "Bad pipe message: %s [b'ec-ch-ua-', b'atform: \"Windows\"\\r\\nUpgrade-Insecure-Requests: 1\\r\\nUser-Agent: Mozilla/5.0 (Windows NT 10.0; Win64; x64) AppleWeb']\n",
      "Bad pipe message: %s [b't/537.36 (KHTML, like Gecko) Chrome/128.0.0.0 Safari/537.36 Edg/128.0.0.0\\r', b'ccept: te', b'/html,application/xhtml+xml,application/xml;q=0.9,image/avif,image/webp,image/apng,*/*;q=0.8,application/signed-exchang']\n",
      "Bad pipe message: %s [b'ol: max-age=0\\r\\nsec-ch-ua: \"Chromium\";v=\"128\", \"Not;A=Brand\";v=\"24\", \"Microsoft Edge\";v=\"128\"\\r\\nsec-ch-ua-mobile: ?0\\r']\n",
      "Bad pipe message: %s [b'ec-ch-ua-', b'atform: \"Windows\"\\r\\nUpgrade-Insecure-Requests: 1\\r\\nUser-Agent: Mozilla/5.0 (Windows NT 10.0; Win64; x64) AppleWeb']\n",
      "Bad pipe message: %s [b't/537.36 (KHTML, like Gecko) Chrome/128.0.0.0 Safari/537.36 Edg/128.0.0.0\\r', b'ccept: te', b'/html,application/xhtml+xml,application/xml;q=0.9,image/avif,image/webp,image/apng,*/*;q=0.8,application/signed-exchang']\n",
      "Bad pipe message: %s [b'v=b3;q=0.7\\r\\nSec-Fetch-Site: cross-site\\r\\nSec-Fetch-Mode: navigate\\r\\nSec-Fetch-User: ?1\\r\\nSec-Fetch-Dest', b'document\\r\\nAccept-Encoding: gzip, deflate, br, zstd\\r\\nAccep']\n",
      "Bad pipe message: %s [b'ol: max-age=0\\r\\nsec-ch-ua: \"Chromium\";v=\"128\", \"Not;A=Brand\";v=\"24\", \"Microsoft Edge\";v=\"128\"\\r\\nsec-ch-ua-mobile: ?0\\r']\n",
      "Bad pipe message: %s [b'ec-ch-ua-', b'atform: \"Windows\"\\r\\nUpgrade-Insecure-Requests: 1\\r\\nUser-Agent: Mozilla/5.0 (Windows NT 10.0; Win64; x64) AppleWeb']\n",
      "Bad pipe message: %s [b't/537.36 (KHTML, like Gecko) Chrome/128.0.0.0 Safari/537.36 Edg/128.0.0.0\\r', b'ccept: te', b'/html,application/xhtml+xml,application/xml;q=0.9,image/avif,image/webp,image/apng,*/*;q=0.8,application/signed-exchang']\n",
      "Bad pipe message: %s [b'ol: max-age=0\\r\\nsec-ch-ua: \"Chromium\";v=\"128\", \"Not;A=Brand\";v=\"24\", \"Microsoft Edge\";v=\"128\"\\r\\nsec-ch-ua-mobile: ?0\\r']\n",
      "Bad pipe message: %s [b'ec-ch-ua-', b'atform: \"Windows\"\\r\\nUpgrade-Insecure-Requests: 1\\r\\nUser-Agent: Mozilla/5.0 (Windows NT 10.0; Win64; x64) AppleWeb']\n",
      "Bad pipe message: %s [b't/537.36 (KHTML, like Gecko) Chrome/128.0.0.0 Safari/537.36 Edg/128.0.0.0\\r', b'ccept: te', b'/html,application/xhtml+xml,application/xml;q=0.9,image/avif,image/webp,image/apng,*/*;q=0.8,application/signed-exchang']\n",
      "Bad pipe message: %s [b'v=b3;q=0.7\\r\\nSec-Fetch-Site: cross-site\\r\\nSec-Fetch-Mode: navigate\\r\\nSec-Fetch-User: ?1\\r\\nSec-Fetch-Dest', b'document\\r\\nAccept-Encoding: gzip, deflate, br, zstd\\r\\nAccep']\n",
      "Bad pipe message: %s [b'ol: max-age=0\\r\\nsec-ch-ua: \"Chromium\";v=\"128\", \"Not;A=Brand\";v=\"24\", \"Microsoft Edge\";v=\"128\"\\r\\nsec-ch-ua-mobile: ?0\\r']\n",
      "Bad pipe message: %s [b'ec-ch-ua-', b'atform: \"Windows\"\\r\\nUpgrade-Insecure-Requests: 1\\r\\nUser-Agent: Mozilla/5.0 (Windows NT 10.0; Win64; x64) AppleWeb']\n",
      "Bad pipe message: %s [b't/537.36 (KHTML, like Gecko) Chrome/128.0.0.0 Safari/537.36 Edg/128.0.0.0\\r', b'ccept: te', b'/html,application/xhtml+xml,application/xml;q=0.9,image/avif,image/webp,image/apng,*/*;q=0.8,application/signed-exchang']\n",
      "Bad pipe message: %s [b'ol: max-age=0\\r\\nsec-ch-ua: \"Chromium\";v=\"128\", \"Not;A=Brand\";v=\"24\", \"Microsoft Edge\";v=\"128\"\\r\\nsec-ch-ua-mobile: ?0\\r']\n",
      "Bad pipe message: %s [b'ec-ch-ua-', b'atform: \"Windows\"\\r\\nUpgrade-Insecure-Requests: 1\\r\\nUser-Agent: Mozilla/5.0 (Windows NT 10.0; Win64; x64) AppleWeb']\n",
      "Bad pipe message: %s [b't/537.36 (KHTML, like Gecko) Chrome/128.0.0.0 Safari/537.36 Edg/128.0.0.0\\r', b'ccept: te', b'/html,application/xhtml+xml,application/xml;q=0.9,image/avif,image/webp,image/apng,*/*;q=0.8,application/signed-exchang']\n"
     ]
    }
   ],
   "source": [
    "print(\"hello world\")"
   ]
  },
  {
   "cell_type": "code",
   "execution_count": 5,
   "metadata": {},
   "outputs": [
    {
     "name": "stdout",
     "output_type": "stream",
     "text": [
      "===================================  Hello,World! =======================================\n",
      "=========================================================================================\n",
      "Name                         Maheen                        \n",
      "Father_name                  Muhammad Arif                   \n",
      "True\n"
     ]
    }
   ],
   "source": [
    "print(\"===================================  Hello,World! =======================================\")\n",
    "print(\"=========================================================================================\")\n",
    "\n",
    "name :str = \"Maheen\"\n",
    "father_name:str =\"Muhammad Arif\"\n",
    "is_student:bool= True\n",
    "print(\"Name\" + name.center(55))\n",
    "print(\"Father_name\" + father_name.center(50))\n",
    "print( is_student)\n"
   ]
  }
 ],
 "metadata": {
  "kernelspec": {
   "display_name": "Python 3",
   "language": "python",
   "name": "python3"
  },
  "language_info": {
   "codemirror_mode": {
    "name": "ipython",
    "version": 3
   },
   "file_extension": ".py",
   "mimetype": "text/x-python",
   "name": "python",
   "nbconvert_exporter": "python",
   "pygments_lexer": "ipython3",
   "version": "3.12.5"
  }
 },
 "nbformat": 4,
 "nbformat_minor": 2
}
